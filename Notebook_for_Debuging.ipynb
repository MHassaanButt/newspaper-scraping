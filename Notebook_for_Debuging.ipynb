{
 "cells": [
  {
   "cell_type": "code",
   "execution_count": null,
   "id": "022f1070",
   "metadata": {},
   "outputs": [],
   "source": [
    "# title =\"China's COVID restrictions spark unrest in Guangzhou – DW – 11/15/2022\""
   ]
  },
  {
   "cell_type": "code",
   "execution_count": null,
   "id": "11f3e21c",
   "metadata": {},
   "outputs": [],
   "source": [
    "#  title.split('– DW –')[0]"
   ]
  },
  {
   "cell_type": "markdown",
   "id": "35304028",
   "metadata": {},
   "source": [
    "# Time Format Fixing"
   ]
  },
  {
   "cell_type": "code",
   "execution_count": null,
   "id": "8bf3a72d",
   "metadata": {},
   "outputs": [],
   "source": [
    "from datetime import datetime, time\n",
    "now = datetime.now()\n",
    "time_scraped = \"3 hour ago akisdhjfa\"\n",
    "time_now = now.strftime(\"%H:%M:%S\")"
   ]
  },
  {
   "cell_type": "code",
   "execution_count": null,
   "id": "3245bbef",
   "metadata": {},
   "outputs": [],
   "source": [
    "time_scraped"
   ]
  },
  {
   "cell_type": "code",
   "execution_count": null,
   "id": "4ddae725",
   "metadata": {},
   "outputs": [],
   "source": [
    "time_now"
   ]
  },
  {
   "cell_type": "code",
   "execution_count": null,
   "id": "a5faeced",
   "metadata": {},
   "outputs": [],
   "source": [
    "format = '%H:%M:%S'\n",
    "if \"hour\" in time_scraped:\n",
    "    time_scraped=time_scraped.split(' ')[0]\n",
    "    time_scraped=str(time_scraped+':00:00')\n",
    "    time = datetime.strptime(time_now, format) - datetime.strptime(time_scraped, format)\n",
    "    print(time)\n",
    "elif \"min\" in time_scraped:\n",
    "    time_scraped=time_scraped.split(' ')[0]\n",
    "    time_scraped=str('00:'+time_scraped+':00')\n",
    "#     print(time_scraped)\n",
    "    time = datetime.strptime(time_now, format) - datetime.strptime(time_scraped, format)\n",
    "    print(time)  \n",
    "else:\n",
    "    print(\"Invalid Time\")"
   ]
  },
  {
   "cell_type": "markdown",
   "id": "ab8c3054",
   "metadata": {},
   "source": [
    "# Date Fixing"
   ]
  },
  {
   "cell_type": "code",
   "execution_count": null,
   "id": "e71f26a0",
   "metadata": {},
   "outputs": [],
   "source": [
    "cur_date=\"48 minutes ago48 minutes ago\""
   ]
  },
  {
   "cell_type": "code",
   "execution_count": null,
   "id": "998fcb20",
   "metadata": {},
   "outputs": [],
   "source": [
    "from datetime import date\n",
    "today = date.today()\n",
    "today = today.strftime(\"%m/%d/%y\")"
   ]
  },
  {
   "cell_type": "code",
   "execution_count": null,
   "id": "ee7920e2",
   "metadata": {},
   "outputs": [],
   "source": [
    "if \"ago\" in cur_date:\n",
    "    print(today)"
   ]
  },
  {
   "cell_type": "markdown",
   "id": "d2458823",
   "metadata": {},
   "source": [
    "## Extracting World News"
   ]
  },
  {
   "cell_type": "code",
   "execution_count": 10,
   "id": "584c9112",
   "metadata": {},
   "outputs": [],
   "source": [
    "from bs4 import BeautifulSoup, SoupStrainer"
   ]
  },
  {
   "cell_type": "code",
   "execution_count": 21,
   "id": "92e99d0f",
   "metadata": {},
   "outputs": [
    {
     "ename": "NameError",
     "evalue": "name 'requests' is not defined",
     "output_type": "error",
     "traceback": [
      "\u001b[1;31m---------------------------------------------------------------------------\u001b[0m",
      "\u001b[1;31mNameError\u001b[0m                                 Traceback (most recent call last)",
      "Cell \u001b[1;32mIn [21], line 16\u001b[0m\n\u001b[0;32m     13\u001b[0m url_to_scrape \u001b[38;5;241m=\u001b[39m \u001b[38;5;124m\"\u001b[39m\u001b[38;5;124mhttps://practice.geeksforgeeks.org/courses/\u001b[39m\u001b[38;5;124m\"\u001b[39m\n\u001b[0;32m     15\u001b[0m \u001b[38;5;66;03m# create document\u001b[39;00m\n\u001b[1;32m---> 16\u001b[0m html_document \u001b[38;5;241m=\u001b[39m \u001b[43mgetHTMLdocument\u001b[49m\u001b[43m(\u001b[49m\u001b[43murl_to_scrape\u001b[49m\u001b[43m)\u001b[49m\n\u001b[0;32m     18\u001b[0m \u001b[38;5;66;03m# create soap object\u001b[39;00m\n\u001b[0;32m     19\u001b[0m soup \u001b[38;5;241m=\u001b[39m BeautifulSoup(html_document, \u001b[38;5;124m'\u001b[39m\u001b[38;5;124mhtml.parser\u001b[39m\u001b[38;5;124m'\u001b[39m)\n",
      "Cell \u001b[1;32mIn [21], line 5\u001b[0m, in \u001b[0;36mgetHTMLdocument\u001b[1;34m(url)\u001b[0m\n\u001b[0;32m      2\u001b[0m \u001b[38;5;28;01mdef\u001b[39;00m \u001b[38;5;21mgetHTMLdocument\u001b[39m(url):\n\u001b[0;32m      3\u001b[0m       \n\u001b[0;32m      4\u001b[0m     \u001b[38;5;66;03m# request for HTML document of given url\u001b[39;00m\n\u001b[1;32m----> 5\u001b[0m     response \u001b[38;5;241m=\u001b[39m \u001b[43mrequests\u001b[49m\u001b[38;5;241m.\u001b[39mget(url)\n\u001b[0;32m      7\u001b[0m     \u001b[38;5;66;03m# response will be provided in JSON format\u001b[39;00m\n\u001b[0;32m      8\u001b[0m     \u001b[38;5;28;01mreturn\u001b[39;00m response\u001b[38;5;241m.\u001b[39mtext\n",
      "\u001b[1;31mNameError\u001b[0m: name 'requests' is not defined"
     ]
    }
   ],
   "source": [
    "# function to extract html document from given url\n",
    "def getHTMLdocument(url):\n",
    "      \n",
    "    # request for HTML document of given url\n",
    "    response = requests.get(url)\n",
    "      \n",
    "    # response will be provided in JSON format\n",
    "    return response.text\n",
    "  \n",
    "    \n",
    "# assign required credentials\n",
    "# assign URL\n",
    "url_to_scrape = \"https://practice.geeksforgeeks.org/courses/\"\n",
    "  \n",
    "# create document\n",
    "html_document = getHTMLdocument(url_to_scrape)\n",
    "  \n",
    "# create soap object\n",
    "soup = BeautifulSoup(html_document, 'html.parser')\n",
    "  \n",
    "  \n",
    "# find all the anchor tags with \"href\" \n",
    "# attribute starting with \"https://\"\n",
    "for link in soup.find_all('a', \n",
    "                          attrs={'href': re.compile(\"^https://\")}):\n",
    "    # display the actual urls\n",
    "    print(link.get('href'))  "
   ]
  },
  {
   "cell_type": "code",
   "execution_count": null,
   "id": "8b38fcd0",
   "metadata": {},
   "outputs": [],
   "source": [
    "sc-cCsOjp gKOKwJ sc-ciZhAO jolbHt group-list"
   ]
  }
 ],
 "metadata": {
  "kernelspec": {
   "display_name": "Python 3 (ipykernel)",
   "language": "python",
   "name": "python3"
  },
  "language_info": {
   "codemirror_mode": {
    "name": "ipython",
    "version": 3
   },
   "file_extension": ".py",
   "mimetype": "text/x-python",
   "name": "python",
   "nbconvert_exporter": "python",
   "pygments_lexer": "ipython3",
   "version": "3.8.15"
  }
 },
 "nbformat": 4,
 "nbformat_minor": 5
}
