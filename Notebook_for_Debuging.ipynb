{
 "cells": [
  {
   "cell_type": "code",
   "execution_count": 1,
   "id": "022f1070",
   "metadata": {},
   "outputs": [],
   "source": [
    "title =\"China's COVID restrictions spark unrest in Guangzhou – DW – 11/15/2022\""
   ]
  },
  {
   "cell_type": "code",
   "execution_count": 9,
   "id": "11f3e21c",
   "metadata": {},
   "outputs": [
    {
     "data": {
      "text/plain": [
       "\"China's COVID restrictions spark unrest in Guangzhou \""
      ]
     },
     "execution_count": 9,
     "metadata": {},
     "output_type": "execute_result"
    }
   ],
   "source": [
    " title.split('– DW –')[0]"
   ]
  },
  {
   "cell_type": "code",
   "execution_count": null,
   "id": "8bf3a72d",
   "metadata": {},
   "outputs": [],
   "source": []
  }
 ],
 "metadata": {
  "kernelspec": {
   "display_name": "Python 3 (ipykernel)",
   "language": "python",
   "name": "python3"
  },
  "language_info": {
   "codemirror_mode": {
    "name": "ipython",
    "version": 3
   },
   "file_extension": ".py",
   "mimetype": "text/x-python",
   "name": "python",
   "nbconvert_exporter": "python",
   "pygments_lexer": "ipython3",
   "version": "3.8.15"
  }
 },
 "nbformat": 4,
 "nbformat_minor": 5
}
