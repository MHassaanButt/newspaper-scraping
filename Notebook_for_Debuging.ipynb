{
 "cells": [
  {
   "cell_type": "code",
   "execution_count": null,
   "id": "022f1070",
   "metadata": {},
   "outputs": [],
   "source": [
    "# title =\"China's COVID restrictions spark unrest in Guangzhou – DW – 11/15/2022\""
   ]
  },
  {
   "cell_type": "code",
   "execution_count": null,
   "id": "11f3e21c",
   "metadata": {},
   "outputs": [],
   "source": [
    "#  title.split('– DW –')[0]"
   ]
  },
  {
   "cell_type": "markdown",
   "id": "35304028",
   "metadata": {},
   "source": [
    "# Time Format Fixing"
   ]
  },
  {
   "cell_type": "code",
   "execution_count": null,
   "id": "8bf3a72d",
   "metadata": {},
   "outputs": [],
   "source": [
    "from datetime import datetime, time\n",
    "now = datetime.now()\n",
    "time_scraped = \"3 hour ago akisdhjfa\"\n",
    "time_now = now.strftime(\"%H:%M:%S\")"
   ]
  },
  {
   "cell_type": "code",
   "execution_count": null,
   "id": "3245bbef",
   "metadata": {},
   "outputs": [],
   "source": [
    "time_scraped"
   ]
  },
  {
   "cell_type": "code",
   "execution_count": null,
   "id": "4ddae725",
   "metadata": {},
   "outputs": [],
   "source": [
    "time_now"
   ]
  },
  {
   "cell_type": "code",
   "execution_count": null,
   "id": "a5faeced",
   "metadata": {},
   "outputs": [],
   "source": [
    "format = '%H:%M:%S'\n",
    "if \"hour\" in time_scraped:\n",
    "    time_scraped=time_scraped.split(' ')[0]\n",
    "    time_scraped=str(time_scraped+':00:00')\n",
    "    time = datetime.strptime(time_now, format) - datetime.strptime(time_scraped, format)\n",
    "    print(time)\n",
    "elif \"min\" in time_scraped:\n",
    "    time_scraped=time_scraped.split(' ')[0]\n",
    "    time_scraped=str('00:'+time_scraped+':00')\n",
    "#     print(time_scraped)\n",
    "    time = datetime.strptime(time_now, format) - datetime.strptime(time_scraped, format)\n",
    "    print(time)  \n",
    "else:\n",
    "    print(\"Invalid Time\")"
   ]
  },
  {
   "cell_type": "markdown",
   "id": "ab8c3054",
   "metadata": {},
   "source": [
    "# Date Fixing"
   ]
  },
  {
   "cell_type": "code",
   "execution_count": 8,
   "id": "e71f26a0",
   "metadata": {},
   "outputs": [],
   "source": [
    "cur_date=\"48 minutes ago48 minutes ago\""
   ]
  },
  {
   "cell_type": "code",
   "execution_count": 9,
   "id": "998fcb20",
   "metadata": {},
   "outputs": [],
   "source": [
    "from datetime import date\n",
    "today = date.today()\n",
    "today = today.strftime(\"%m/%d/%y\")"
   ]
  },
  {
   "cell_type": "code",
   "execution_count": 10,
   "id": "ee7920e2",
   "metadata": {},
   "outputs": [],
   "source": [
    "if \"ago\" in cur_date:\n",
    "    print(today)"
   ]
  },
  {
   "cell_type": "code",
   "execution_count": null,
   "id": "903c99d8",
   "metadata": {},
   "outputs": [],
   "source": []
  }
 ],
 "metadata": {
  "kernelspec": {
   "display_name": "Python 3 (ipykernel)",
   "language": "python",
   "name": "python3"
  },
  "language_info": {
   "codemirror_mode": {
    "name": "ipython",
    "version": 3
   },
   "file_extension": ".py",
   "mimetype": "text/x-python",
   "name": "python",
   "nbconvert_exporter": "python",
   "pygments_lexer": "ipython3",
   "version": "3.8.15"
  }
 },
 "nbformat": 4,
 "nbformat_minor": 5
}
